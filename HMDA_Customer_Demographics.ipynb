{
 "cells": [
  {
   "cell_type": "code",
   "execution_count": 1,
   "id": "1639d0de",
   "metadata": {},
   "outputs": [],
   "source": [
    "import pandas as pd\n",
    "import numpy as np "
   ]
  },
  {
   "cell_type": "code",
   "execution_count": 2,
   "id": "a4038ebd",
   "metadata": {},
   "outputs": [
    {
     "name": "stderr",
     "output_type": "stream",
     "text": [
      "C:\\Users\\pavan\\AppData\\Local\\Temp\\ipykernel_6448\\53480780.py:1: DtypeWarning: Columns (34,36,38,44,46,48) have mixed types. Specify dtype option on import or set low_memory=False.\n",
      "  data = pd.read_csv(r\"C:\\Users\\pavan\\OneDrive\\Desktop\\Home Loan Project\\HMDA_OwnerOccupiedLoan_Demographics.csv\", encoding = 'latin-1')\n"
     ]
    }
   ],
   "source": [
    "data = pd.read_csv(r\"C:\\Users\\pavan\\OneDrive\\Desktop\\Home Loan Project\\HMDA_OwnerOccupiedLoan_Demographics.csv\", encoding = 'latin-1')"
   ]
  },
  {
   "cell_type": "code",
   "execution_count": 3,
   "id": "3a81691d",
   "metadata": {},
   "outputs": [],
   "source": [
    "df = pd.DataFrame(data)"
   ]
  },
  {
   "cell_type": "code",
   "execution_count": 4,
   "id": "b059fb2d",
   "metadata": {
    "scrolled": true
   },
   "outputs": [
    {
     "data": {
      "text/html": [
       "<div>\n",
       "<style scoped>\n",
       "    .dataframe tbody tr th:only-of-type {\n",
       "        vertical-align: middle;\n",
       "    }\n",
       "\n",
       "    .dataframe tbody tr th {\n",
       "        vertical-align: top;\n",
       "    }\n",
       "\n",
       "    .dataframe thead th {\n",
       "        text-align: right;\n",
       "    }\n",
       "</style>\n",
       "<table border=\"1\" class=\"dataframe\">\n",
       "  <thead>\n",
       "    <tr style=\"text-align: right;\">\n",
       "      <th></th>\n",
       "      <th>as_of_year</th>\n",
       "      <th>respondent_id</th>\n",
       "      <th>agency_name</th>\n",
       "      <th>agency_abbr</th>\n",
       "      <th>agency_code</th>\n",
       "      <th>loan_type_name</th>\n",
       "      <th>loan_type</th>\n",
       "      <th>property_type_name</th>\n",
       "      <th>property_type</th>\n",
       "      <th>loan_purpose_name</th>\n",
       "      <th>...</th>\n",
       "      <th>edit_status_name</th>\n",
       "      <th>edit_status</th>\n",
       "      <th>sequence_number</th>\n",
       "      <th>population</th>\n",
       "      <th>minority_population</th>\n",
       "      <th>hud_median_family_income</th>\n",
       "      <th>tract_to_msamd_income</th>\n",
       "      <th>number_of_owner_occupied_units</th>\n",
       "      <th>number_of_1_to_4_family_units</th>\n",
       "      <th>application_date_indicator</th>\n",
       "    </tr>\n",
       "  </thead>\n",
       "  <tbody>\n",
       "    <tr>\n",
       "      <th>0</th>\n",
       "      <td>2017</td>\n",
       "      <td>68601</td>\n",
       "      <td>National Credit Union Administration</td>\n",
       "      <td>NCUA</td>\n",
       "      <td>5</td>\n",
       "      <td>Conventional</td>\n",
       "      <td>1</td>\n",
       "      <td>One-to-four family dwelling (other than manufa...</td>\n",
       "      <td>1</td>\n",
       "      <td>Home purchase</td>\n",
       "      <td>...</td>\n",
       "      <td>NaN</td>\n",
       "      <td>NaN</td>\n",
       "      <td>NaN</td>\n",
       "      <td>4272.0</td>\n",
       "      <td>2.790000</td>\n",
       "      <td>55800.0</td>\n",
       "      <td>99.970001</td>\n",
       "      <td>1609.0</td>\n",
       "      <td>2271.0</td>\n",
       "      <td>NaN</td>\n",
       "    </tr>\n",
       "    <tr>\n",
       "      <th>1</th>\n",
       "      <td>2017</td>\n",
       "      <td>63194</td>\n",
       "      <td>National Credit Union Administration</td>\n",
       "      <td>NCUA</td>\n",
       "      <td>5</td>\n",
       "      <td>FHA-insured</td>\n",
       "      <td>2</td>\n",
       "      <td>One-to-four family dwelling (other than manufa...</td>\n",
       "      <td>1</td>\n",
       "      <td>Home purchase</td>\n",
       "      <td>...</td>\n",
       "      <td>NaN</td>\n",
       "      <td>NaN</td>\n",
       "      <td>NaN</td>\n",
       "      <td>5451.0</td>\n",
       "      <td>10.790000</td>\n",
       "      <td>56800.0</td>\n",
       "      <td>128.639999</td>\n",
       "      <td>1601.0</td>\n",
       "      <td>1814.0</td>\n",
       "      <td>NaN</td>\n",
       "    </tr>\n",
       "    <tr>\n",
       "      <th>2</th>\n",
       "      <td>2017</td>\n",
       "      <td>451965</td>\n",
       "      <td>Consumer Financial Protection Bureau</td>\n",
       "      <td>CFPB</td>\n",
       "      <td>9</td>\n",
       "      <td>Conventional</td>\n",
       "      <td>1</td>\n",
       "      <td>One-to-four family dwelling (other than manufa...</td>\n",
       "      <td>1</td>\n",
       "      <td>Home purchase</td>\n",
       "      <td>...</td>\n",
       "      <td>NaN</td>\n",
       "      <td>NaN</td>\n",
       "      <td>NaN</td>\n",
       "      <td>3372.0</td>\n",
       "      <td>33.189999</td>\n",
       "      <td>97400.0</td>\n",
       "      <td>141.740005</td>\n",
       "      <td>592.0</td>\n",
       "      <td>1105.0</td>\n",
       "      <td>NaN</td>\n",
       "    </tr>\n",
       "    <tr>\n",
       "      <th>3</th>\n",
       "      <td>2017</td>\n",
       "      <td>41-1842999</td>\n",
       "      <td>Department of Housing and Urban Development</td>\n",
       "      <td>HUD</td>\n",
       "      <td>7</td>\n",
       "      <td>Conventional</td>\n",
       "      <td>1</td>\n",
       "      <td>One-to-four family dwelling (other than manufa...</td>\n",
       "      <td>1</td>\n",
       "      <td>Refinancing</td>\n",
       "      <td>...</td>\n",
       "      <td>NaN</td>\n",
       "      <td>NaN</td>\n",
       "      <td>NaN</td>\n",
       "      <td>12551.0</td>\n",
       "      <td>6.490000</td>\n",
       "      <td>89800.0</td>\n",
       "      <td>135.779999</td>\n",
       "      <td>3463.0</td>\n",
       "      <td>3782.0</td>\n",
       "      <td>NaN</td>\n",
       "    </tr>\n",
       "    <tr>\n",
       "      <th>4</th>\n",
       "      <td>2017</td>\n",
       "      <td>613307</td>\n",
       "      <td>Consumer Financial Protection Bureau</td>\n",
       "      <td>CFPB</td>\n",
       "      <td>9</td>\n",
       "      <td>Conventional</td>\n",
       "      <td>1</td>\n",
       "      <td>One-to-four family dwelling (other than manufa...</td>\n",
       "      <td>1</td>\n",
       "      <td>Refinancing</td>\n",
       "      <td>...</td>\n",
       "      <td>NaN</td>\n",
       "      <td>NaN</td>\n",
       "      <td>NaN</td>\n",
       "      <td>3755.0</td>\n",
       "      <td>62.639999</td>\n",
       "      <td>73700.0</td>\n",
       "      <td>132.720001</td>\n",
       "      <td>623.0</td>\n",
       "      <td>742.0</td>\n",
       "      <td>NaN</td>\n",
       "    </tr>\n",
       "  </tbody>\n",
       "</table>\n",
       "<p>5 rows × 78 columns</p>\n",
       "</div>"
      ],
      "text/plain": [
       "   as_of_year respondent_id                                  agency_name  \\\n",
       "0        2017         68601         National Credit Union Administration   \n",
       "1        2017         63194         National Credit Union Administration   \n",
       "2        2017        451965         Consumer Financial Protection Bureau   \n",
       "3        2017    41-1842999  Department of Housing and Urban Development   \n",
       "4        2017        613307         Consumer Financial Protection Bureau   \n",
       "\n",
       "  agency_abbr  agency_code loan_type_name  loan_type  \\\n",
       "0        NCUA            5   Conventional          1   \n",
       "1        NCUA            5    FHA-insured          2   \n",
       "2        CFPB            9   Conventional          1   \n",
       "3         HUD            7   Conventional          1   \n",
       "4        CFPB            9   Conventional          1   \n",
       "\n",
       "                                  property_type_name  property_type  \\\n",
       "0  One-to-four family dwelling (other than manufa...              1   \n",
       "1  One-to-four family dwelling (other than manufa...              1   \n",
       "2  One-to-four family dwelling (other than manufa...              1   \n",
       "3  One-to-four family dwelling (other than manufa...              1   \n",
       "4  One-to-four family dwelling (other than manufa...              1   \n",
       "\n",
       "  loan_purpose_name  ...  edit_status_name edit_status  sequence_number  \\\n",
       "0     Home purchase  ...               NaN         NaN              NaN   \n",
       "1     Home purchase  ...               NaN         NaN              NaN   \n",
       "2     Home purchase  ...               NaN         NaN              NaN   \n",
       "3       Refinancing  ...               NaN         NaN              NaN   \n",
       "4       Refinancing  ...               NaN         NaN              NaN   \n",
       "\n",
       "   population minority_population  hud_median_family_income  \\\n",
       "0      4272.0            2.790000                   55800.0   \n",
       "1      5451.0           10.790000                   56800.0   \n",
       "2      3372.0           33.189999                   97400.0   \n",
       "3     12551.0            6.490000                   89800.0   \n",
       "4      3755.0           62.639999                   73700.0   \n",
       "\n",
       "  tract_to_msamd_income  number_of_owner_occupied_units  \\\n",
       "0             99.970001                          1609.0   \n",
       "1            128.639999                          1601.0   \n",
       "2            141.740005                           592.0   \n",
       "3            135.779999                          3463.0   \n",
       "4            132.720001                           623.0   \n",
       "\n",
       "  number_of_1_to_4_family_units  application_date_indicator  \n",
       "0                        2271.0                         NaN  \n",
       "1                        1814.0                         NaN  \n",
       "2                        1105.0                         NaN  \n",
       "3                        3782.0                         NaN  \n",
       "4                         742.0                         NaN  \n",
       "\n",
       "[5 rows x 78 columns]"
      ]
     },
     "execution_count": 4,
     "metadata": {},
     "output_type": "execute_result"
    }
   ],
   "source": [
    "df.head()"
   ]
  },
  {
   "cell_type": "markdown",
   "id": "462af15d",
   "metadata": {},
   "source": [
    "## Data Inspection and Initial Cleaning"
   ]
  },
  {
   "cell_type": "code",
   "execution_count": 5,
   "id": "f5e259fd",
   "metadata": {},
   "outputs": [
    {
     "name": "stdout",
     "output_type": "stream",
     "text": [
      "<class 'pandas.core.frame.DataFrame'>\n",
      "RangeIndex: 1048575 entries, 0 to 1048574\n",
      "Data columns (total 78 columns):\n",
      " #   Column                          Non-Null Count    Dtype  \n",
      "---  ------                          --------------    -----  \n",
      " 0   as_of_year                      1048575 non-null  int64  \n",
      " 1   respondent_id                   1048575 non-null  object \n",
      " 2   agency_name                     1048575 non-null  object \n",
      " 3   agency_abbr                     1048575 non-null  object \n",
      " 4   agency_code                     1048575 non-null  int64  \n",
      " 5   loan_type_name                  1048575 non-null  object \n",
      " 6   loan_type                       1048575 non-null  int64  \n",
      " 7   property_type_name              1048575 non-null  object \n",
      " 8   property_type                   1048575 non-null  int64  \n",
      " 9   loan_purpose_name               1048575 non-null  object \n",
      " 10  loan_purpose                    1048575 non-null  int64  \n",
      " 11  owner_occupancy_name            1048575 non-null  object \n",
      " 12  owner_occupancy                 1048575 non-null  int64  \n",
      " 13  loan_amount_000s                1048321 non-null  float64\n",
      " 14  preapproval_name                1048575 non-null  object \n",
      " 15  preapproval                     1048575 non-null  int64  \n",
      " 16  action_taken_name               1048575 non-null  object \n",
      " 17  action_taken                    1048575 non-null  int64  \n",
      " 18  msamd_name                      939341 non-null   object \n",
      " 19  msamd                           939598 non-null   float64\n",
      " 20  state_name                      1048529 non-null  object \n",
      " 21  state_abbr                      1048529 non-null  object \n",
      " 22  state_code                      1048529 non-null  float64\n",
      " 23  county_name                     1048289 non-null  object \n",
      " 24  county_code                     1048289 non-null  float64\n",
      " 25  census_tract_number             1047917 non-null  float64\n",
      " 26  applicant_ethnicity_name        1048575 non-null  object \n",
      " 27  applicant_ethnicity             1048575 non-null  int64  \n",
      " 28  co_applicant_ethnicity_name     1048575 non-null  object \n",
      " 29  co_applicant_ethnicity          1048575 non-null  int64  \n",
      " 30  applicant_race_name_1           1048575 non-null  object \n",
      " 31  applicant_race_1                1048575 non-null  int64  \n",
      " 32  applicant_race_name_2           6575 non-null     object \n",
      " 33  applicant_race_2                6575 non-null     float64\n",
      " 34  applicant_race_name_3           611 non-null      object \n",
      " 35  applicant_race_3                611 non-null      float64\n",
      " 36  applicant_race_name_4           127 non-null      object \n",
      " 37  applicant_race_4                127 non-null      float64\n",
      " 38  applicant_race_name_5           75 non-null       object \n",
      " 39  applicant_race_5                75 non-null       float64\n",
      " 40  co_applicant_race_name_1        1048575 non-null  object \n",
      " 41  co_applicant_race_1             1048575 non-null  int64  \n",
      " 42  co_applicant_race_name_2        2596 non-null     object \n",
      " 43  co_applicant_race_2             2596 non-null     float64\n",
      " 44  co_applicant_race_name_3        219 non-null      object \n",
      " 45  co_applicant_race_3             219 non-null      float64\n",
      " 46  co_applicant_race_name_4        49 non-null       object \n",
      " 47  co_applicant_race_4             49 non-null       float64\n",
      " 48  co_applicant_race_name_5        22 non-null       object \n",
      " 49  co_applicant_race_5             22 non-null       float64\n",
      " 50  applicant_sex_name              1048575 non-null  object \n",
      " 51  applicant_sex                   1048575 non-null  int64  \n",
      " 52  co_applicant_sex_name           1048575 non-null  object \n",
      " 53  co_applicant_sex                1048575 non-null  int64  \n",
      " 54  applicant_income_000s           1008497 non-null  float64\n",
      " 55  purchaser_type_name             1048575 non-null  object \n",
      " 56  purchaser_type                  1048575 non-null  int64  \n",
      " 57  denial_reason_name_1            0 non-null        float64\n",
      " 58  denial_reason_1                 0 non-null        float64\n",
      " 59  denial_reason_name_2            0 non-null        float64\n",
      " 60  denial_reason_2                 0 non-null        float64\n",
      " 61  denial_reason_name_3            0 non-null        float64\n",
      " 62  denial_reason_3                 0 non-null        float64\n",
      " 63  rate_spread                     64030 non-null    float64\n",
      " 64  hoepa_status_name               1048575 non-null  object \n",
      " 65  hoepa_status                    1048575 non-null  int64  \n",
      " 66  lien_status_name                1048575 non-null  object \n",
      " 67  lien_status                     1048575 non-null  int64  \n",
      " 68  edit_status_name                0 non-null        float64\n",
      " 69  edit_status                     0 non-null        float64\n",
      " 70  sequence_number                 0 non-null        float64\n",
      " 71  population                      1047917 non-null  float64\n",
      " 72  minority_population             1047917 non-null  float64\n",
      " 73  hud_median_family_income        1047917 non-null  float64\n",
      " 74  tract_to_msamd_income           1047917 non-null  float64\n",
      " 75  number_of_owner_occupied_units  1047917 non-null  float64\n",
      " 76  number_of_1_to_4_family_units   1047917 non-null  float64\n",
      " 77  application_date_indicator      0 non-null        float64\n",
      "dtypes: float64(31), int64(17), object(30)\n",
      "memory usage: 624.0+ MB\n"
     ]
    }
   ],
   "source": [
    "df.info()"
   ]
  },
  {
   "cell_type": "code",
   "execution_count": 6,
   "id": "e312d434",
   "metadata": {
    "scrolled": true
   },
   "outputs": [
    {
     "data": {
      "text/plain": [
       "as_of_year                              0\n",
       "respondent_id                           0\n",
       "agency_name                             0\n",
       "agency_abbr                             0\n",
       "agency_code                             0\n",
       "                                   ...   \n",
       "hud_median_family_income              658\n",
       "tract_to_msamd_income                 658\n",
       "number_of_owner_occupied_units        658\n",
       "number_of_1_to_4_family_units         658\n",
       "application_date_indicator        1048575\n",
       "Length: 78, dtype: int64"
      ]
     },
     "execution_count": 6,
     "metadata": {},
     "output_type": "execute_result"
    }
   ],
   "source": [
    "null_counts = df.isnull().sum()\n",
    "null_counts"
   ]
  },
  {
   "cell_type": "markdown",
   "id": "f6035616",
   "metadata": {},
   "source": [
    "# Dropping columns with all null values and columns with more than 10000 null values"
   ]
  },
  {
   "cell_type": "code",
   "execution_count": 7,
   "id": "a62ac21c",
   "metadata": {},
   "outputs": [],
   "source": [
    "columns_to_drop = null_counts[null_counts == len(df)]\n",
    "df_filtered = df.drop(columns_to_drop.index, axis = 1)"
   ]
  },
  {
   "cell_type": "code",
   "execution_count": 8,
   "id": "8fa12c98",
   "metadata": {},
   "outputs": [
    {
     "name": "stdout",
     "output_type": "stream",
     "text": [
      "<class 'pandas.core.frame.DataFrame'>\n",
      "RangeIndex: 1048575 entries, 0 to 1048574\n",
      "Data columns (total 68 columns):\n",
      " #   Column                          Non-Null Count    Dtype  \n",
      "---  ------                          --------------    -----  \n",
      " 0   as_of_year                      1048575 non-null  int64  \n",
      " 1   respondent_id                   1048575 non-null  object \n",
      " 2   agency_name                     1048575 non-null  object \n",
      " 3   agency_abbr                     1048575 non-null  object \n",
      " 4   agency_code                     1048575 non-null  int64  \n",
      " 5   loan_type_name                  1048575 non-null  object \n",
      " 6   loan_type                       1048575 non-null  int64  \n",
      " 7   property_type_name              1048575 non-null  object \n",
      " 8   property_type                   1048575 non-null  int64  \n",
      " 9   loan_purpose_name               1048575 non-null  object \n",
      " 10  loan_purpose                    1048575 non-null  int64  \n",
      " 11  owner_occupancy_name            1048575 non-null  object \n",
      " 12  owner_occupancy                 1048575 non-null  int64  \n",
      " 13  loan_amount_000s                1048321 non-null  float64\n",
      " 14  preapproval_name                1048575 non-null  object \n",
      " 15  preapproval                     1048575 non-null  int64  \n",
      " 16  action_taken_name               1048575 non-null  object \n",
      " 17  action_taken                    1048575 non-null  int64  \n",
      " 18  msamd_name                      939341 non-null   object \n",
      " 19  msamd                           939598 non-null   float64\n",
      " 20  state_name                      1048529 non-null  object \n",
      " 21  state_abbr                      1048529 non-null  object \n",
      " 22  state_code                      1048529 non-null  float64\n",
      " 23  county_name                     1048289 non-null  object \n",
      " 24  county_code                     1048289 non-null  float64\n",
      " 25  census_tract_number             1047917 non-null  float64\n",
      " 26  applicant_ethnicity_name        1048575 non-null  object \n",
      " 27  applicant_ethnicity             1048575 non-null  int64  \n",
      " 28  co_applicant_ethnicity_name     1048575 non-null  object \n",
      " 29  co_applicant_ethnicity          1048575 non-null  int64  \n",
      " 30  applicant_race_name_1           1048575 non-null  object \n",
      " 31  applicant_race_1                1048575 non-null  int64  \n",
      " 32  applicant_race_name_2           6575 non-null     object \n",
      " 33  applicant_race_2                6575 non-null     float64\n",
      " 34  applicant_race_name_3           611 non-null      object \n",
      " 35  applicant_race_3                611 non-null      float64\n",
      " 36  applicant_race_name_4           127 non-null      object \n",
      " 37  applicant_race_4                127 non-null      float64\n",
      " 38  applicant_race_name_5           75 non-null       object \n",
      " 39  applicant_race_5                75 non-null       float64\n",
      " 40  co_applicant_race_name_1        1048575 non-null  object \n",
      " 41  co_applicant_race_1             1048575 non-null  int64  \n",
      " 42  co_applicant_race_name_2        2596 non-null     object \n",
      " 43  co_applicant_race_2             2596 non-null     float64\n",
      " 44  co_applicant_race_name_3        219 non-null      object \n",
      " 45  co_applicant_race_3             219 non-null      float64\n",
      " 46  co_applicant_race_name_4        49 non-null       object \n",
      " 47  co_applicant_race_4             49 non-null       float64\n",
      " 48  co_applicant_race_name_5        22 non-null       object \n",
      " 49  co_applicant_race_5             22 non-null       float64\n",
      " 50  applicant_sex_name              1048575 non-null  object \n",
      " 51  applicant_sex                   1048575 non-null  int64  \n",
      " 52  co_applicant_sex_name           1048575 non-null  object \n",
      " 53  co_applicant_sex                1048575 non-null  int64  \n",
      " 54  applicant_income_000s           1008497 non-null  float64\n",
      " 55  purchaser_type_name             1048575 non-null  object \n",
      " 56  purchaser_type                  1048575 non-null  int64  \n",
      " 57  rate_spread                     64030 non-null    float64\n",
      " 58  hoepa_status_name               1048575 non-null  object \n",
      " 59  hoepa_status                    1048575 non-null  int64  \n",
      " 60  lien_status_name                1048575 non-null  object \n",
      " 61  lien_status                     1048575 non-null  int64  \n",
      " 62  population                      1047917 non-null  float64\n",
      " 63  minority_population             1047917 non-null  float64\n",
      " 64  hud_median_family_income        1047917 non-null  float64\n",
      " 65  tract_to_msamd_income           1047917 non-null  float64\n",
      " 66  number_of_owner_occupied_units  1047917 non-null  float64\n",
      " 67  number_of_1_to_4_family_units   1047917 non-null  float64\n",
      "dtypes: float64(21), int64(17), object(30)\n",
      "memory usage: 544.0+ MB\n"
     ]
    }
   ],
   "source": [
    "df_filtered.info()"
   ]
  },
  {
   "cell_type": "code",
   "execution_count": 9,
   "id": "0869f713",
   "metadata": {},
   "outputs": [],
   "source": [
    "df_new = df_filtered"
   ]
  },
  {
   "cell_type": "code",
   "execution_count": 10,
   "id": "df975c98",
   "metadata": {},
   "outputs": [],
   "source": [
    "non_null_counts = df_new.count()\n",
    "columns_to_drop1 = non_null_counts[non_null_counts < 10000].index\n",
    "\n",
    "df_dropped = df_new.drop(columns = columns_to_drop1)"
   ]
  },
  {
   "cell_type": "code",
   "execution_count": 11,
   "id": "9eebe15b",
   "metadata": {},
   "outputs": [
    {
     "name": "stdout",
     "output_type": "stream",
     "text": [
      "<class 'pandas.core.frame.DataFrame'>\n",
      "RangeIndex: 1048575 entries, 0 to 1048574\n",
      "Data columns (total 52 columns):\n",
      " #   Column                          Non-Null Count    Dtype  \n",
      "---  ------                          --------------    -----  \n",
      " 0   as_of_year                      1048575 non-null  int64  \n",
      " 1   respondent_id                   1048575 non-null  object \n",
      " 2   agency_name                     1048575 non-null  object \n",
      " 3   agency_abbr                     1048575 non-null  object \n",
      " 4   agency_code                     1048575 non-null  int64  \n",
      " 5   loan_type_name                  1048575 non-null  object \n",
      " 6   loan_type                       1048575 non-null  int64  \n",
      " 7   property_type_name              1048575 non-null  object \n",
      " 8   property_type                   1048575 non-null  int64  \n",
      " 9   loan_purpose_name               1048575 non-null  object \n",
      " 10  loan_purpose                    1048575 non-null  int64  \n",
      " 11  owner_occupancy_name            1048575 non-null  object \n",
      " 12  owner_occupancy                 1048575 non-null  int64  \n",
      " 13  loan_amount_000s                1048321 non-null  float64\n",
      " 14  preapproval_name                1048575 non-null  object \n",
      " 15  preapproval                     1048575 non-null  int64  \n",
      " 16  action_taken_name               1048575 non-null  object \n",
      " 17  action_taken                    1048575 non-null  int64  \n",
      " 18  msamd_name                      939341 non-null   object \n",
      " 19  msamd                           939598 non-null   float64\n",
      " 20  state_name                      1048529 non-null  object \n",
      " 21  state_abbr                      1048529 non-null  object \n",
      " 22  state_code                      1048529 non-null  float64\n",
      " 23  county_name                     1048289 non-null  object \n",
      " 24  county_code                     1048289 non-null  float64\n",
      " 25  census_tract_number             1047917 non-null  float64\n",
      " 26  applicant_ethnicity_name        1048575 non-null  object \n",
      " 27  applicant_ethnicity             1048575 non-null  int64  \n",
      " 28  co_applicant_ethnicity_name     1048575 non-null  object \n",
      " 29  co_applicant_ethnicity          1048575 non-null  int64  \n",
      " 30  applicant_race_name_1           1048575 non-null  object \n",
      " 31  applicant_race_1                1048575 non-null  int64  \n",
      " 32  co_applicant_race_name_1        1048575 non-null  object \n",
      " 33  co_applicant_race_1             1048575 non-null  int64  \n",
      " 34  applicant_sex_name              1048575 non-null  object \n",
      " 35  applicant_sex                   1048575 non-null  int64  \n",
      " 36  co_applicant_sex_name           1048575 non-null  object \n",
      " 37  co_applicant_sex                1048575 non-null  int64  \n",
      " 38  applicant_income_000s           1008497 non-null  float64\n",
      " 39  purchaser_type_name             1048575 non-null  object \n",
      " 40  purchaser_type                  1048575 non-null  int64  \n",
      " 41  rate_spread                     64030 non-null    float64\n",
      " 42  hoepa_status_name               1048575 non-null  object \n",
      " 43  hoepa_status                    1048575 non-null  int64  \n",
      " 44  lien_status_name                1048575 non-null  object \n",
      " 45  lien_status                     1048575 non-null  int64  \n",
      " 46  population                      1047917 non-null  float64\n",
      " 47  minority_population             1047917 non-null  float64\n",
      " 48  hud_median_family_income        1047917 non-null  float64\n",
      " 49  tract_to_msamd_income           1047917 non-null  float64\n",
      " 50  number_of_owner_occupied_units  1047917 non-null  float64\n",
      " 51  number_of_1_to_4_family_units   1047917 non-null  float64\n",
      "dtypes: float64(13), int64(17), object(22)\n",
      "memory usage: 416.0+ MB\n"
     ]
    }
   ],
   "source": [
    "df_dropped.info()"
   ]
  },
  {
   "cell_type": "code",
   "execution_count": 12,
   "id": "052bfd14",
   "metadata": {},
   "outputs": [],
   "source": [
    "df_new = df_dropped"
   ]
  },
  {
   "cell_type": "markdown",
   "id": "edbe9534",
   "metadata": {},
   "source": [
    "# Understanding string columns using value_counts"
   ]
  },
  {
   "cell_type": "code",
   "execution_count": 13,
   "id": "1c93c1e9",
   "metadata": {},
   "outputs": [
    {
     "data": {
      "text/plain": [
       "Loan originated    1048575\n",
       "Name: action_taken_name, dtype: int64"
      ]
     },
     "execution_count": 13,
     "metadata": {},
     "output_type": "execute_result"
    }
   ],
   "source": [
    "df_new[\"action_taken_name\"].value_counts()"
   ]
  },
  {
   "cell_type": "code",
   "execution_count": 14,
   "id": "2138dfe4",
   "metadata": {},
   "outputs": [
    {
     "data": {
      "text/plain": [
       "Home purchase       625467\n",
       "Refinancing         383733\n",
       "Home improvement     39375\n",
       "Name: loan_purpose_name, dtype: int64"
      ]
     },
     "execution_count": 14,
     "metadata": {},
     "output_type": "execute_result"
    }
   ],
   "source": [
    "df_new[\"loan_purpose_name\"].value_counts()"
   ]
  },
  {
   "cell_type": "code",
   "execution_count": 15,
   "id": "4f266911",
   "metadata": {
    "scrolled": true
   },
   "outputs": [
    {
     "data": {
      "text/plain": [
       "Male                                                                                 655184\n",
       "Female                                                                               301997\n",
       "Information not provided by applicant in mail, Internet, or telephone application     90691\n",
       "Not applicable                                                                          703\n",
       "Name: applicant_sex_name, dtype: int64"
      ]
     },
     "execution_count": 15,
     "metadata": {},
     "output_type": "execute_result"
    }
   ],
   "source": [
    "df_new[\"applicant_sex_name\"].value_counts()"
   ]
  },
  {
   "cell_type": "code",
   "execution_count": 16,
   "id": "30aa81b0",
   "metadata": {},
   "outputs": [],
   "source": [
    "male_percentage = 0.6\n",
    "female_percentage = 0.3\n",
    "not_applicable_percentage = 0.1\n",
    "\n",
    "# Calculate the counts for replacement based on percentages\n",
    "total_to_replace = df_new.loc[df['applicant_sex_name'] == 'Information not provided by applicant in mail, Internet, or telephone application'].shape[0]\n",
    "male_count = int(total_to_replace * male_percentage)\n",
    "female_count = int(total_to_replace * female_percentage)\n",
    "not_applicable_count = total_to_replace - male_count - female_count\n",
    "\n",
    "# Generate replacement values with randomized distribution\n",
    "replacement_values = np.random.choice(['Male', 'Female', 'Not applicable'], total_to_replace, p=[male_percentage, female_percentage, not_applicable_percentage])\n",
    "\n",
    "# Replace values in the original DataFrame\n",
    "df_new.loc[df['applicant_sex_name'] == 'Information not provided by applicant in mail, Internet, or telephone application', 'applicant_sex_name'] = replacement_values\n"
   ]
  },
  {
   "cell_type": "code",
   "execution_count": 17,
   "id": "cca2d6b6",
   "metadata": {},
   "outputs": [
    {
     "data": {
      "text/plain": [
       "Male              709782\n",
       "Female            329052\n",
       "Not applicable      9741\n",
       "Name: applicant_sex_name, dtype: int64"
      ]
     },
     "execution_count": 17,
     "metadata": {},
     "output_type": "execute_result"
    }
   ],
   "source": [
    "df_new[\"applicant_sex_name\"].value_counts()"
   ]
  },
  {
   "cell_type": "code",
   "execution_count": 18,
   "id": "9e22ab74",
   "metadata": {},
   "outputs": [],
   "source": [
    "df_new['applicant_sex_name'] = df_new['applicant_sex_name'].replace('Not applicable', 'Non Binary')"
   ]
  },
  {
   "cell_type": "code",
   "execution_count": 19,
   "id": "08f69727",
   "metadata": {},
   "outputs": [
    {
     "data": {
      "text/plain": [
       "Male          709782\n",
       "Female        329052\n",
       "Non Binary      9741\n",
       "Name: applicant_sex_name, dtype: int64"
      ]
     },
     "execution_count": 19,
     "metadata": {},
     "output_type": "execute_result"
    }
   ],
   "source": [
    "df_new[\"applicant_sex_name\"].value_counts()"
   ]
  },
  {
   "cell_type": "code",
   "execution_count": 20,
   "id": "eee49444",
   "metadata": {},
   "outputs": [
    {
     "data": {
      "text/plain": [
       "White                                                                                777937\n",
       "Information not provided by applicant in mail, Internet, or telephone application    150460\n",
       "Black or African American                                                             55354\n",
       "Asian                                                                                 53443\n",
       "American Indian or Alaska Native                                                       5965\n",
       "Native Hawaiian or Other Pacific Islander                                              4649\n",
       "Not applicable                                                                          767\n",
       "Name: applicant_race_name_1, dtype: int64"
      ]
     },
     "execution_count": 20,
     "metadata": {},
     "output_type": "execute_result"
    }
   ],
   "source": [
    "df_new[\"applicant_race_name_1\"].value_counts()"
   ]
  },
  {
   "cell_type": "code",
   "execution_count": 21,
   "id": "3e3b945e",
   "metadata": {},
   "outputs": [
    {
     "data": {
      "text/plain": [
       "Not Hispanic or Latino                                                               808199\n",
       "Information not provided by applicant in mail, Internet, or telephone application    140695\n",
       "Hispanic or Latino                                                                    98618\n",
       "Not applicable                                                                         1063\n",
       "Name: applicant_ethnicity_name, dtype: int64"
      ]
     },
     "execution_count": 21,
     "metadata": {},
     "output_type": "execute_result"
    }
   ],
   "source": [
    "df_new[\"applicant_ethnicity_name\"].value_counts()"
   ]
  },
  {
   "cell_type": "code",
   "execution_count": 22,
   "id": "593c53ac",
   "metadata": {},
   "outputs": [
    {
     "data": {
      "text/plain": [
       "Male          709782\n",
       "Female        329052\n",
       "Non Binary      9741\n",
       "Name: applicant_sex_name, dtype: int64"
      ]
     },
     "execution_count": 22,
     "metadata": {},
     "output_type": "execute_result"
    }
   ],
   "source": [
    "df_new[\"applicant_sex_name\"].value_counts()"
   ]
  },
  {
   "cell_type": "code",
   "execution_count": 23,
   "id": "f793a8f1",
   "metadata": {},
   "outputs": [],
   "source": [
    "race_ethnicity = df_new.groupby('applicant_race_name_1')[\"applicant_ethnicity_name\"].value_counts().unstack(fill_value=0)"
   ]
  },
  {
   "cell_type": "code",
   "execution_count": 24,
   "id": "2488693f",
   "metadata": {
    "scrolled": false
   },
   "outputs": [
    {
     "name": "stdout",
     "output_type": "stream",
     "text": [
      "applicant_ethnicity_name                            Hispanic or Latino  \\\n",
      "applicant_race_name_1                                                    \n",
      "American Indian or Alaska Native                                  1461   \n",
      "Asian                                                              646   \n",
      "Black or African American                                         1407   \n",
      "Information not provided by applicant in mail, ...                8639   \n",
      "Native Hawaiian or Other Pacific Islander                          731   \n",
      "Not applicable                                                       0   \n",
      "White                                                            85734   \n",
      "\n",
      "applicant_ethnicity_name                            Information not provided by applicant in mail, Internet, or telephone application  \\\n",
      "applicant_race_name_1                                                                                                                   \n",
      "American Indian or Alaska Native                                                                  246                                   \n",
      "Asian                                                                                            1134                                   \n",
      "Black or African American                                                                        1023                                   \n",
      "Information not provided by applicant in mail, ...                                             128379                                   \n",
      "Native Hawaiian or Other Pacific Islander                                                         129                                   \n",
      "Not applicable                                                                                      0                                   \n",
      "White                                                                                            9784                                   \n",
      "\n",
      "applicant_ethnicity_name                            Not Hispanic or Latino  \\\n",
      "applicant_race_name_1                                                        \n",
      "American Indian or Alaska Native                                      4255   \n",
      "Asian                                                                51654   \n",
      "Black or African American                                            52900   \n",
      "Information not provided by applicant in mail, ...                   13329   \n",
      "Native Hawaiian or Other Pacific Islander                             3788   \n",
      "Not applicable                                                           0   \n",
      "White                                                               682273   \n",
      "\n",
      "applicant_ethnicity_name                            Not applicable  \n",
      "applicant_race_name_1                                               \n",
      "American Indian or Alaska Native                                 3  \n",
      "Asian                                                            9  \n",
      "Black or African American                                       24  \n",
      "Information not provided by applicant in mail, ...             113  \n",
      "Native Hawaiian or Other Pacific Islander                        1  \n",
      "Not applicable                                                 767  \n",
      "White                                                          146  \n"
     ]
    }
   ],
   "source": [
    "print(race_ethnicity)\n"
   ]
  },
  {
   "cell_type": "code",
   "execution_count": 25,
   "id": "19661123",
   "metadata": {},
   "outputs": [],
   "source": [
    "columns_to_delete = ['agency_code','loan_type', 'property_type','property_type_name',\n",
    "       \"loan_purpose\",\"owner_occupancy\", \"owner_occupancy_name\", \"preapproval\", \"preapproval_name\", 'action_taken',\n",
    "       'msamd', 'state_code','census_tract_number','applicant_ethnicity','co_applicant_ethnicity',\n",
    "       'applicant_race_1','applicant_race_2', 'applicant_race_name_3', 'applicant_race_3',\n",
    "       'applicant_race_name_4', 'applicant_race_4', 'applicant_race_name_5',\n",
    "       'applicant_race_5', 'co_applicant_race_name_1', 'co_applicant_race_1',\n",
    "       'co_applicant_race_name_2', 'co_applicant_race_2','co_applicant_race_name_3', 'co_applicant_race_3',\n",
    "       'co_applicant_race_name_4', 'co_applicant_race_4',\n",
    "       'co_applicant_race_name_5', 'co_applicant_race_5', 'applicant_sex', 'co_applicant_sex_name', 'co_applicant_sex',\n",
    "       'purchaser_type_name', 'purchaser_type',\n",
    "       'denial_reason_name_1', 'denial_reason_1', 'denial_reason_name_2',\n",
    "       'denial_reason_2', 'denial_reason_name_3', 'denial_reason_3',\n",
    "       'rate_spread', 'hoepa_status_name', 'hoepa_status', 'lien_status_name',\n",
    "       'lien_status', 'edit_status_name', 'edit_status', 'sequence_number',\n",
    "       'population', 'minority_population','tract_to_msamd_income', 'number_of_owner_occupied_units',\n",
    "       'number_of_1_to_4_family_units', 'application_date_indicator']"
   ]
  },
  {
   "cell_type": "code",
   "execution_count": 26,
   "id": "a88dc4c7",
   "metadata": {},
   "outputs": [],
   "source": [
    "df_new.drop(df_new[df_new['applicant_ethnicity_name'] == 'Information not provided by applicant in mail, Internet, or telephone application'].index, inplace=True)\n"
   ]
  },
  {
   "cell_type": "code",
   "execution_count": 27,
   "id": "67b2fa80",
   "metadata": {},
   "outputs": [],
   "source": [
    "df_new.drop(df_new[df_new['applicant_race_name_1'] == 'Information not provided by applicant in mail, Internet, or telephone application'].index, inplace=True)\n"
   ]
  },
  {
   "cell_type": "code",
   "execution_count": 28,
   "id": "57b63b0b",
   "metadata": {
    "scrolled": false
   },
   "outputs": [
    {
     "name": "stdout",
     "output_type": "stream",
     "text": [
      "<class 'pandas.core.frame.DataFrame'>\n",
      "Int64Index: 885799 entries, 1 to 1048574\n",
      "Data columns (total 52 columns):\n",
      " #   Column                          Non-Null Count   Dtype  \n",
      "---  ------                          --------------   -----  \n",
      " 0   as_of_year                      885799 non-null  int64  \n",
      " 1   respondent_id                   885799 non-null  object \n",
      " 2   agency_name                     885799 non-null  object \n",
      " 3   agency_abbr                     885799 non-null  object \n",
      " 4   agency_code                     885799 non-null  int64  \n",
      " 5   loan_type_name                  885799 non-null  object \n",
      " 6   loan_type                       885799 non-null  int64  \n",
      " 7   property_type_name              885799 non-null  object \n",
      " 8   property_type                   885799 non-null  int64  \n",
      " 9   loan_purpose_name               885799 non-null  object \n",
      " 10  loan_purpose                    885799 non-null  int64  \n",
      " 11  owner_occupancy_name            885799 non-null  object \n",
      " 12  owner_occupancy                 885799 non-null  int64  \n",
      " 13  loan_amount_000s                885574 non-null  float64\n",
      " 14  preapproval_name                885799 non-null  object \n",
      " 15  preapproval                     885799 non-null  int64  \n",
      " 16  action_taken_name               885799 non-null  object \n",
      " 17  action_taken                    885799 non-null  int64  \n",
      " 18  msamd_name                      790337 non-null  object \n",
      " 19  msamd                           790579 non-null  float64\n",
      " 20  state_name                      885756 non-null  object \n",
      " 21  state_abbr                      885756 non-null  object \n",
      " 22  state_code                      885756 non-null  float64\n",
      " 23  county_name                     885590 non-null  object \n",
      " 24  county_code                     885590 non-null  float64\n",
      " 25  census_tract_number             885290 non-null  float64\n",
      " 26  applicant_ethnicity_name        885799 non-null  object \n",
      " 27  applicant_ethnicity             885799 non-null  int64  \n",
      " 28  co_applicant_ethnicity_name     885799 non-null  object \n",
      " 29  co_applicant_ethnicity          885799 non-null  int64  \n",
      " 30  applicant_race_name_1           885799 non-null  object \n",
      " 31  applicant_race_1                885799 non-null  int64  \n",
      " 32  co_applicant_race_name_1        885799 non-null  object \n",
      " 33  co_applicant_race_1             885799 non-null  int64  \n",
      " 34  applicant_sex_name              885799 non-null  object \n",
      " 35  applicant_sex                   885799 non-null  int64  \n",
      " 36  co_applicant_sex_name           885799 non-null  object \n",
      " 37  co_applicant_sex                885799 non-null  int64  \n",
      " 38  applicant_income_000s           853789 non-null  float64\n",
      " 39  purchaser_type_name             885799 non-null  object \n",
      " 40  purchaser_type                  885799 non-null  int64  \n",
      " 41  rate_spread                     57758 non-null   float64\n",
      " 42  hoepa_status_name               885799 non-null  object \n",
      " 43  hoepa_status                    885799 non-null  int64  \n",
      " 44  lien_status_name                885799 non-null  object \n",
      " 45  lien_status                     885799 non-null  int64  \n",
      " 46  population                      885290 non-null  float64\n",
      " 47  minority_population             885290 non-null  float64\n",
      " 48  hud_median_family_income        885290 non-null  float64\n",
      " 49  tract_to_msamd_income           885290 non-null  float64\n",
      " 50  number_of_owner_occupied_units  885290 non-null  float64\n",
      " 51  number_of_1_to_4_family_units   885290 non-null  float64\n",
      "dtypes: float64(13), int64(17), object(22)\n",
      "memory usage: 358.2+ MB\n"
     ]
    }
   ],
   "source": [
    "df_new.info()"
   ]
  },
  {
   "cell_type": "code",
   "execution_count": 29,
   "id": "78fc1bb6",
   "metadata": {},
   "outputs": [
    {
     "data": {
      "text/html": [
       "<div>\n",
       "<style scoped>\n",
       "    .dataframe tbody tr th:only-of-type {\n",
       "        vertical-align: middle;\n",
       "    }\n",
       "\n",
       "    .dataframe tbody tr th {\n",
       "        vertical-align: top;\n",
       "    }\n",
       "\n",
       "    .dataframe thead th {\n",
       "        text-align: right;\n",
       "    }\n",
       "</style>\n",
       "<table border=\"1\" class=\"dataframe\">\n",
       "  <thead>\n",
       "    <tr style=\"text-align: right;\">\n",
       "      <th></th>\n",
       "      <th>as_of_year</th>\n",
       "      <th>respondent_id</th>\n",
       "      <th>agency_name</th>\n",
       "      <th>agency_abbr</th>\n",
       "      <th>agency_code</th>\n",
       "      <th>loan_type_name</th>\n",
       "      <th>loan_type</th>\n",
       "      <th>property_type_name</th>\n",
       "      <th>property_type</th>\n",
       "      <th>loan_purpose_name</th>\n",
       "      <th>...</th>\n",
       "      <th>hoepa_status_name</th>\n",
       "      <th>hoepa_status</th>\n",
       "      <th>lien_status_name</th>\n",
       "      <th>lien_status</th>\n",
       "      <th>population</th>\n",
       "      <th>minority_population</th>\n",
       "      <th>hud_median_family_income</th>\n",
       "      <th>tract_to_msamd_income</th>\n",
       "      <th>number_of_owner_occupied_units</th>\n",
       "      <th>number_of_1_to_4_family_units</th>\n",
       "    </tr>\n",
       "  </thead>\n",
       "  <tbody>\n",
       "    <tr>\n",
       "      <th>1</th>\n",
       "      <td>2017</td>\n",
       "      <td>63194</td>\n",
       "      <td>National Credit Union Administration</td>\n",
       "      <td>NCUA</td>\n",
       "      <td>5</td>\n",
       "      <td>FHA-insured</td>\n",
       "      <td>2</td>\n",
       "      <td>One-to-four family dwelling (other than manufa...</td>\n",
       "      <td>1</td>\n",
       "      <td>Home purchase</td>\n",
       "      <td>...</td>\n",
       "      <td>Not a HOEPA loan</td>\n",
       "      <td>2</td>\n",
       "      <td>Secured by a first lien</td>\n",
       "      <td>1</td>\n",
       "      <td>5451.0</td>\n",
       "      <td>10.790000</td>\n",
       "      <td>56800.0</td>\n",
       "      <td>128.639999</td>\n",
       "      <td>1601.0</td>\n",
       "      <td>1814.0</td>\n",
       "    </tr>\n",
       "    <tr>\n",
       "      <th>5</th>\n",
       "      <td>2017</td>\n",
       "      <td>451965</td>\n",
       "      <td>Consumer Financial Protection Bureau</td>\n",
       "      <td>CFPB</td>\n",
       "      <td>9</td>\n",
       "      <td>Conventional</td>\n",
       "      <td>1</td>\n",
       "      <td>One-to-four family dwelling (other than manufa...</td>\n",
       "      <td>1</td>\n",
       "      <td>Refinancing</td>\n",
       "      <td>...</td>\n",
       "      <td>Not a HOEPA loan</td>\n",
       "      <td>2</td>\n",
       "      <td>Secured by a first lien</td>\n",
       "      <td>1</td>\n",
       "      <td>6225.0</td>\n",
       "      <td>62.860001</td>\n",
       "      <td>45300.0</td>\n",
       "      <td>279.720001</td>\n",
       "      <td>1575.0</td>\n",
       "      <td>2041.0</td>\n",
       "    </tr>\n",
       "    <tr>\n",
       "      <th>8</th>\n",
       "      <td>2017</td>\n",
       "      <td>68490</td>\n",
       "      <td>National Credit Union Administration</td>\n",
       "      <td>NCUA</td>\n",
       "      <td>5</td>\n",
       "      <td>Conventional</td>\n",
       "      <td>1</td>\n",
       "      <td>One-to-four family dwelling (other than manufa...</td>\n",
       "      <td>1</td>\n",
       "      <td>Refinancing</td>\n",
       "      <td>...</td>\n",
       "      <td>Not a HOEPA loan</td>\n",
       "      <td>2</td>\n",
       "      <td>Secured by a first lien</td>\n",
       "      <td>1</td>\n",
       "      <td>5589.0</td>\n",
       "      <td>30.150000</td>\n",
       "      <td>64300.0</td>\n",
       "      <td>134.110001</td>\n",
       "      <td>1378.0</td>\n",
       "      <td>1780.0</td>\n",
       "    </tr>\n",
       "    <tr>\n",
       "      <th>9</th>\n",
       "      <td>2017</td>\n",
       "      <td>451965</td>\n",
       "      <td>Consumer Financial Protection Bureau</td>\n",
       "      <td>CFPB</td>\n",
       "      <td>9</td>\n",
       "      <td>FHA-insured</td>\n",
       "      <td>2</td>\n",
       "      <td>One-to-four family dwelling (other than manufa...</td>\n",
       "      <td>1</td>\n",
       "      <td>Home purchase</td>\n",
       "      <td>...</td>\n",
       "      <td>Not a HOEPA loan</td>\n",
       "      <td>2</td>\n",
       "      <td>Secured by a first lien</td>\n",
       "      <td>1</td>\n",
       "      <td>4078.0</td>\n",
       "      <td>58.310001</td>\n",
       "      <td>102600.0</td>\n",
       "      <td>73.889999</td>\n",
       "      <td>1021.0</td>\n",
       "      <td>1463.0</td>\n",
       "    </tr>\n",
       "    <tr>\n",
       "      <th>11</th>\n",
       "      <td>2017</td>\n",
       "      <td>33-0975529</td>\n",
       "      <td>Department of Housing and Urban Development</td>\n",
       "      <td>HUD</td>\n",
       "      <td>7</td>\n",
       "      <td>FHA-insured</td>\n",
       "      <td>2</td>\n",
       "      <td>One-to-four family dwelling (other than manufa...</td>\n",
       "      <td>1</td>\n",
       "      <td>Home purchase</td>\n",
       "      <td>...</td>\n",
       "      <td>Not a HOEPA loan</td>\n",
       "      <td>2</td>\n",
       "      <td>Secured by a first lien</td>\n",
       "      <td>1</td>\n",
       "      <td>3524.0</td>\n",
       "      <td>10.530000</td>\n",
       "      <td>62600.0</td>\n",
       "      <td>103.230003</td>\n",
       "      <td>1274.0</td>\n",
       "      <td>1857.0</td>\n",
       "    </tr>\n",
       "    <tr>\n",
       "      <th>...</th>\n",
       "      <td>...</td>\n",
       "      <td>...</td>\n",
       "      <td>...</td>\n",
       "      <td>...</td>\n",
       "      <td>...</td>\n",
       "      <td>...</td>\n",
       "      <td>...</td>\n",
       "      <td>...</td>\n",
       "      <td>...</td>\n",
       "      <td>...</td>\n",
       "      <td>...</td>\n",
       "      <td>...</td>\n",
       "      <td>...</td>\n",
       "      <td>...</td>\n",
       "      <td>...</td>\n",
       "      <td>...</td>\n",
       "      <td>...</td>\n",
       "      <td>...</td>\n",
       "      <td>...</td>\n",
       "      <td>...</td>\n",
       "      <td>...</td>\n",
       "    </tr>\n",
       "    <tr>\n",
       "      <th>1048570</th>\n",
       "      <td>2017</td>\n",
       "      <td>7056000000</td>\n",
       "      <td>Department of Housing and Urban Development</td>\n",
       "      <td>HUD</td>\n",
       "      <td>7</td>\n",
       "      <td>Conventional</td>\n",
       "      <td>1</td>\n",
       "      <td>One-to-four family dwelling (other than manufa...</td>\n",
       "      <td>1</td>\n",
       "      <td>Home purchase</td>\n",
       "      <td>...</td>\n",
       "      <td>Not a HOEPA loan</td>\n",
       "      <td>2</td>\n",
       "      <td>Secured by a first lien</td>\n",
       "      <td>1</td>\n",
       "      <td>4225.0</td>\n",
       "      <td>82.440002</td>\n",
       "      <td>75200.0</td>\n",
       "      <td>56.099998</td>\n",
       "      <td>493.0</td>\n",
       "      <td>1151.0</td>\n",
       "    </tr>\n",
       "    <tr>\n",
       "      <th>1048571</th>\n",
       "      <td>2017</td>\n",
       "      <td>7197000003</td>\n",
       "      <td>Department of Housing and Urban Development</td>\n",
       "      <td>HUD</td>\n",
       "      <td>7</td>\n",
       "      <td>Conventional</td>\n",
       "      <td>1</td>\n",
       "      <td>One-to-four family dwelling (other than manufa...</td>\n",
       "      <td>1</td>\n",
       "      <td>Refinancing</td>\n",
       "      <td>...</td>\n",
       "      <td>Not a HOEPA loan</td>\n",
       "      <td>2</td>\n",
       "      <td>Secured by a first lien</td>\n",
       "      <td>1</td>\n",
       "      <td>8624.0</td>\n",
       "      <td>8.190000</td>\n",
       "      <td>84000.0</td>\n",
       "      <td>113.330002</td>\n",
       "      <td>2566.0</td>\n",
       "      <td>2951.0</td>\n",
       "    </tr>\n",
       "    <tr>\n",
       "      <th>1048572</th>\n",
       "      <td>2017</td>\n",
       "      <td>852218</td>\n",
       "      <td>Consumer Financial Protection Bureau</td>\n",
       "      <td>CFPB</td>\n",
       "      <td>9</td>\n",
       "      <td>Conventional</td>\n",
       "      <td>1</td>\n",
       "      <td>One-to-four family dwelling (other than manufa...</td>\n",
       "      <td>1</td>\n",
       "      <td>Home purchase</td>\n",
       "      <td>...</td>\n",
       "      <td>Not a HOEPA loan</td>\n",
       "      <td>2</td>\n",
       "      <td>Secured by a first lien</td>\n",
       "      <td>1</td>\n",
       "      <td>5123.0</td>\n",
       "      <td>44.290001</td>\n",
       "      <td>97400.0</td>\n",
       "      <td>151.679993</td>\n",
       "      <td>1229.0</td>\n",
       "      <td>1607.0</td>\n",
       "    </tr>\n",
       "    <tr>\n",
       "      <th>1048573</th>\n",
       "      <td>2017</td>\n",
       "      <td>01-0759540</td>\n",
       "      <td>Department of Housing and Urban Development</td>\n",
       "      <td>HUD</td>\n",
       "      <td>7</td>\n",
       "      <td>FHA-insured</td>\n",
       "      <td>2</td>\n",
       "      <td>One-to-four family dwelling (other than manufa...</td>\n",
       "      <td>1</td>\n",
       "      <td>Home purchase</td>\n",
       "      <td>...</td>\n",
       "      <td>Not a HOEPA loan</td>\n",
       "      <td>2</td>\n",
       "      <td>Secured by a first lien</td>\n",
       "      <td>1</td>\n",
       "      <td>4557.0</td>\n",
       "      <td>6.740000</td>\n",
       "      <td>53700.0</td>\n",
       "      <td>132.100006</td>\n",
       "      <td>1593.0</td>\n",
       "      <td>1807.0</td>\n",
       "    </tr>\n",
       "    <tr>\n",
       "      <th>1048574</th>\n",
       "      <td>2017</td>\n",
       "      <td>34-1716542</td>\n",
       "      <td>Department of Housing and Urban Development</td>\n",
       "      <td>HUD</td>\n",
       "      <td>7</td>\n",
       "      <td>Conventional</td>\n",
       "      <td>1</td>\n",
       "      <td>One-to-four family dwelling (other than manufa...</td>\n",
       "      <td>1</td>\n",
       "      <td>Home purchase</td>\n",
       "      <td>...</td>\n",
       "      <td>Not a HOEPA loan</td>\n",
       "      <td>2</td>\n",
       "      <td>Secured by a first lien</td>\n",
       "      <td>1</td>\n",
       "      <td>6818.0</td>\n",
       "      <td>0.750000</td>\n",
       "      <td>67900.0</td>\n",
       "      <td>130.990005</td>\n",
       "      <td>2437.0</td>\n",
       "      <td>2816.0</td>\n",
       "    </tr>\n",
       "  </tbody>\n",
       "</table>\n",
       "<p>885705 rows × 52 columns</p>\n",
       "</div>"
      ],
      "text/plain": [
       "         as_of_year respondent_id  \\\n",
       "1              2017         63194   \n",
       "5              2017        451965   \n",
       "8              2017         68490   \n",
       "9              2017        451965   \n",
       "11             2017    33-0975529   \n",
       "...             ...           ...   \n",
       "1048570        2017    7056000000   \n",
       "1048571        2017    7197000003   \n",
       "1048572        2017        852218   \n",
       "1048573        2017    01-0759540   \n",
       "1048574        2017    34-1716542   \n",
       "\n",
       "                                         agency_name agency_abbr  agency_code  \\\n",
       "1               National Credit Union Administration        NCUA            5   \n",
       "5               Consumer Financial Protection Bureau        CFPB            9   \n",
       "8               National Credit Union Administration        NCUA            5   \n",
       "9               Consumer Financial Protection Bureau        CFPB            9   \n",
       "11       Department of Housing and Urban Development         HUD            7   \n",
       "...                                              ...         ...          ...   \n",
       "1048570  Department of Housing and Urban Development         HUD            7   \n",
       "1048571  Department of Housing and Urban Development         HUD            7   \n",
       "1048572         Consumer Financial Protection Bureau        CFPB            9   \n",
       "1048573  Department of Housing and Urban Development         HUD            7   \n",
       "1048574  Department of Housing and Urban Development         HUD            7   \n",
       "\n",
       "        loan_type_name  loan_type  \\\n",
       "1          FHA-insured          2   \n",
       "5         Conventional          1   \n",
       "8         Conventional          1   \n",
       "9          FHA-insured          2   \n",
       "11         FHA-insured          2   \n",
       "...                ...        ...   \n",
       "1048570   Conventional          1   \n",
       "1048571   Conventional          1   \n",
       "1048572   Conventional          1   \n",
       "1048573    FHA-insured          2   \n",
       "1048574   Conventional          1   \n",
       "\n",
       "                                        property_type_name  property_type  \\\n",
       "1        One-to-four family dwelling (other than manufa...              1   \n",
       "5        One-to-four family dwelling (other than manufa...              1   \n",
       "8        One-to-four family dwelling (other than manufa...              1   \n",
       "9        One-to-four family dwelling (other than manufa...              1   \n",
       "11       One-to-four family dwelling (other than manufa...              1   \n",
       "...                                                    ...            ...   \n",
       "1048570  One-to-four family dwelling (other than manufa...              1   \n",
       "1048571  One-to-four family dwelling (other than manufa...              1   \n",
       "1048572  One-to-four family dwelling (other than manufa...              1   \n",
       "1048573  One-to-four family dwelling (other than manufa...              1   \n",
       "1048574  One-to-four family dwelling (other than manufa...              1   \n",
       "\n",
       "        loan_purpose_name  ...  hoepa_status_name hoepa_status  \\\n",
       "1           Home purchase  ...   Not a HOEPA loan            2   \n",
       "5             Refinancing  ...   Not a HOEPA loan            2   \n",
       "8             Refinancing  ...   Not a HOEPA loan            2   \n",
       "9           Home purchase  ...   Not a HOEPA loan            2   \n",
       "11          Home purchase  ...   Not a HOEPA loan            2   \n",
       "...                   ...  ...                ...          ...   \n",
       "1048570     Home purchase  ...   Not a HOEPA loan            2   \n",
       "1048571       Refinancing  ...   Not a HOEPA loan            2   \n",
       "1048572     Home purchase  ...   Not a HOEPA loan            2   \n",
       "1048573     Home purchase  ...   Not a HOEPA loan            2   \n",
       "1048574     Home purchase  ...   Not a HOEPA loan            2   \n",
       "\n",
       "                lien_status_name  lien_status population  minority_population  \\\n",
       "1        Secured by a first lien            1     5451.0            10.790000   \n",
       "5        Secured by a first lien            1     6225.0            62.860001   \n",
       "8        Secured by a first lien            1     5589.0            30.150000   \n",
       "9        Secured by a first lien            1     4078.0            58.310001   \n",
       "11       Secured by a first lien            1     3524.0            10.530000   \n",
       "...                          ...          ...        ...                  ...   \n",
       "1048570  Secured by a first lien            1     4225.0            82.440002   \n",
       "1048571  Secured by a first lien            1     8624.0             8.190000   \n",
       "1048572  Secured by a first lien            1     5123.0            44.290001   \n",
       "1048573  Secured by a first lien            1     4557.0             6.740000   \n",
       "1048574  Secured by a first lien            1     6818.0             0.750000   \n",
       "\n",
       "        hud_median_family_income  tract_to_msamd_income  \\\n",
       "1                        56800.0             128.639999   \n",
       "5                        45300.0             279.720001   \n",
       "8                        64300.0             134.110001   \n",
       "9                       102600.0              73.889999   \n",
       "11                       62600.0             103.230003   \n",
       "...                          ...                    ...   \n",
       "1048570                  75200.0              56.099998   \n",
       "1048571                  84000.0             113.330002   \n",
       "1048572                  97400.0             151.679993   \n",
       "1048573                  53700.0             132.100006   \n",
       "1048574                  67900.0             130.990005   \n",
       "\n",
       "        number_of_owner_occupied_units  number_of_1_to_4_family_units  \n",
       "1                               1601.0                         1814.0  \n",
       "5                               1575.0                         2041.0  \n",
       "8                               1378.0                         1780.0  \n",
       "9                               1021.0                         1463.0  \n",
       "11                              1274.0                         1857.0  \n",
       "...                                ...                            ...  \n",
       "1048570                          493.0                         1151.0  \n",
       "1048571                         2566.0                         2951.0  \n",
       "1048572                         1229.0                         1607.0  \n",
       "1048573                         1593.0                         1807.0  \n",
       "1048574                         2437.0                         2816.0  \n",
       "\n",
       "[885705 rows x 52 columns]"
      ]
     },
     "execution_count": 29,
     "metadata": {},
     "output_type": "execute_result"
    }
   ],
   "source": [
    "df_new.drop_duplicates()"
   ]
  },
  {
   "cell_type": "code",
   "execution_count": 30,
   "id": "84945b77",
   "metadata": {
    "scrolled": true
   },
   "outputs": [
    {
     "name": "stdout",
     "output_type": "stream",
     "text": [
      "<class 'pandas.core.frame.DataFrame'>\n",
      "Int64Index: 885799 entries, 1 to 1048574\n",
      "Data columns (total 52 columns):\n",
      " #   Column                          Non-Null Count   Dtype  \n",
      "---  ------                          --------------   -----  \n",
      " 0   as_of_year                      885799 non-null  int64  \n",
      " 1   respondent_id                   885799 non-null  object \n",
      " 2   agency_name                     885799 non-null  object \n",
      " 3   agency_abbr                     885799 non-null  object \n",
      " 4   agency_code                     885799 non-null  int64  \n",
      " 5   loan_type_name                  885799 non-null  object \n",
      " 6   loan_type                       885799 non-null  int64  \n",
      " 7   property_type_name              885799 non-null  object \n",
      " 8   property_type                   885799 non-null  int64  \n",
      " 9   loan_purpose_name               885799 non-null  object \n",
      " 10  loan_purpose                    885799 non-null  int64  \n",
      " 11  owner_occupancy_name            885799 non-null  object \n",
      " 12  owner_occupancy                 885799 non-null  int64  \n",
      " 13  loan_amount_000s                885574 non-null  float64\n",
      " 14  preapproval_name                885799 non-null  object \n",
      " 15  preapproval                     885799 non-null  int64  \n",
      " 16  action_taken_name               885799 non-null  object \n",
      " 17  action_taken                    885799 non-null  int64  \n",
      " 18  msamd_name                      790337 non-null  object \n",
      " 19  msamd                           790579 non-null  float64\n",
      " 20  state_name                      885756 non-null  object \n",
      " 21  state_abbr                      885756 non-null  object \n",
      " 22  state_code                      885756 non-null  float64\n",
      " 23  county_name                     885590 non-null  object \n",
      " 24  county_code                     885590 non-null  float64\n",
      " 25  census_tract_number             885290 non-null  float64\n",
      " 26  applicant_ethnicity_name        885799 non-null  object \n",
      " 27  applicant_ethnicity             885799 non-null  int64  \n",
      " 28  co_applicant_ethnicity_name     885799 non-null  object \n",
      " 29  co_applicant_ethnicity          885799 non-null  int64  \n",
      " 30  applicant_race_name_1           885799 non-null  object \n",
      " 31  applicant_race_1                885799 non-null  int64  \n",
      " 32  co_applicant_race_name_1        885799 non-null  object \n",
      " 33  co_applicant_race_1             885799 non-null  int64  \n",
      " 34  applicant_sex_name              885799 non-null  object \n",
      " 35  applicant_sex                   885799 non-null  int64  \n",
      " 36  co_applicant_sex_name           885799 non-null  object \n",
      " 37  co_applicant_sex                885799 non-null  int64  \n",
      " 38  applicant_income_000s           853789 non-null  float64\n",
      " 39  purchaser_type_name             885799 non-null  object \n",
      " 40  purchaser_type                  885799 non-null  int64  \n",
      " 41  rate_spread                     57758 non-null   float64\n",
      " 42  hoepa_status_name               885799 non-null  object \n",
      " 43  hoepa_status                    885799 non-null  int64  \n",
      " 44  lien_status_name                885799 non-null  object \n",
      " 45  lien_status                     885799 non-null  int64  \n",
      " 46  population                      885290 non-null  float64\n",
      " 47  minority_population             885290 non-null  float64\n",
      " 48  hud_median_family_income        885290 non-null  float64\n",
      " 49  tract_to_msamd_income           885290 non-null  float64\n",
      " 50  number_of_owner_occupied_units  885290 non-null  float64\n",
      " 51  number_of_1_to_4_family_units   885290 non-null  float64\n",
      "dtypes: float64(13), int64(17), object(22)\n",
      "memory usage: 358.2+ MB\n"
     ]
    }
   ],
   "source": [
    "df_new.info()"
   ]
  },
  {
   "cell_type": "code",
   "execution_count": 31,
   "id": "9a26f3d2",
   "metadata": {},
   "outputs": [
    {
     "data": {
      "text/plain": [
       "Index(['as_of_year', 'respondent_id', 'agency_name', 'agency_abbr',\n",
       "       'agency_code', 'loan_type_name', 'loan_type', 'property_type_name',\n",
       "       'property_type', 'loan_purpose_name', 'loan_purpose',\n",
       "       'owner_occupancy_name', 'owner_occupancy', 'loan_amount_000s',\n",
       "       'preapproval_name', 'preapproval', 'action_taken_name', 'action_taken',\n",
       "       'msamd_name', 'msamd', 'state_name', 'state_abbr', 'state_code',\n",
       "       'county_name', 'county_code', 'census_tract_number',\n",
       "       'applicant_ethnicity_name', 'applicant_ethnicity',\n",
       "       'co_applicant_ethnicity_name', 'co_applicant_ethnicity',\n",
       "       'applicant_race_name_1', 'applicant_race_1', 'co_applicant_race_name_1',\n",
       "       'co_applicant_race_1', 'applicant_sex_name', 'applicant_sex',\n",
       "       'co_applicant_sex_name', 'co_applicant_sex', 'applicant_income_000s',\n",
       "       'purchaser_type_name', 'purchaser_type', 'rate_spread',\n",
       "       'hoepa_status_name', 'hoepa_status', 'lien_status_name', 'lien_status',\n",
       "       'population', 'minority_population', 'hud_median_family_income',\n",
       "       'tract_to_msamd_income', 'number_of_owner_occupied_units',\n",
       "       'number_of_1_to_4_family_units'],\n",
       "      dtype='object')"
      ]
     },
     "execution_count": 31,
     "metadata": {},
     "output_type": "execute_result"
    }
   ],
   "source": [
    "df_new.columns"
   ]
  },
  {
   "cell_type": "code",
   "execution_count": 32,
   "id": "c9723003",
   "metadata": {},
   "outputs": [],
   "source": [
    "columns_to_delete = ['as_of_year', 'respondent_id', 'agency_name', 'agency_abbr',\n",
    "       'agency_code', 'loan_type', 'property_type_name',\n",
    "       'property_type', 'loan_purpose',\n",
    "       'owner_occupancy_name', 'owner_occupancy', 'preapproval_name', 'preapproval', 'action_taken_name', 'action_taken',\n",
    "       'msamd',  'state_abbr', 'state_code',\n",
    "       'county_code', 'census_tract_number',\n",
    "        'applicant_ethnicity',\n",
    "       'co_applicant_ethnicity_name', 'co_applicant_ethnicity',\n",
    "       'applicant_race_1', 'co_applicant_race_name_1',\n",
    "       'co_applicant_race_1',  'applicant_sex',\n",
    "       'co_applicant_sex_name', 'co_applicant_sex', \n",
    "       'purchaser_type_name', 'purchaser_type', 'rate_spread',\n",
    "       'hoepa_status_name', 'hoepa_status', 'lien_status_name', 'lien_status',\n",
    "       'population', 'minority_population', \n",
    "       'tract_to_msamd_income', 'number_of_owner_occupied_units',\n",
    "       'number_of_1_to_4_family_units'] "
   ]
  },
  {
   "cell_type": "code",
   "execution_count": 33,
   "id": "0bfc9590",
   "metadata": {},
   "outputs": [],
   "source": [
    "df_fin = df_new.drop(columns = columns_to_delete)"
   ]
  },
  {
   "cell_type": "code",
   "execution_count": 34,
   "id": "aa195370",
   "metadata": {
    "scrolled": true
   },
   "outputs": [
    {
     "name": "stdout",
     "output_type": "stream",
     "text": [
      "<class 'pandas.core.frame.DataFrame'>\n",
      "Int64Index: 885799 entries, 1 to 1048574\n",
      "Data columns (total 11 columns):\n",
      " #   Column                    Non-Null Count   Dtype  \n",
      "---  ------                    --------------   -----  \n",
      " 0   loan_type_name            885799 non-null  object \n",
      " 1   loan_purpose_name         885799 non-null  object \n",
      " 2   loan_amount_000s          885574 non-null  float64\n",
      " 3   msamd_name                790337 non-null  object \n",
      " 4   state_name                885756 non-null  object \n",
      " 5   county_name               885590 non-null  object \n",
      " 6   applicant_ethnicity_name  885799 non-null  object \n",
      " 7   applicant_race_name_1     885799 non-null  object \n",
      " 8   applicant_sex_name        885799 non-null  object \n",
      " 9   applicant_income_000s     853789 non-null  float64\n",
      " 10  hud_median_family_income  885290 non-null  float64\n",
      "dtypes: float64(3), object(8)\n",
      "memory usage: 81.1+ MB\n"
     ]
    }
   ],
   "source": [
    "df_fin.info()"
   ]
  },
  {
   "cell_type": "code",
   "execution_count": 35,
   "id": "81f3e824",
   "metadata": {},
   "outputs": [
    {
     "data": {
      "text/plain": [
       "White                                        768153\n",
       "Black or African American                     54331\n",
       "Asian                                         52309\n",
       "American Indian or Alaska Native               5719\n",
       "Native Hawaiian or Other Pacific Islander      4520\n",
       "Not applicable                                  767\n",
       "Name: applicant_race_name_1, dtype: int64"
      ]
     },
     "execution_count": 35,
     "metadata": {},
     "output_type": "execute_result"
    }
   ],
   "source": [
    "df_fin['applicant_race_name_1'].value_counts()"
   ]
  },
  {
   "cell_type": "code",
   "execution_count": 36,
   "id": "03b211f0",
   "metadata": {
    "scrolled": true
   },
   "outputs": [
    {
     "data": {
      "text/plain": [
       "loan_type_name                  0\n",
       "loan_purpose_name               0\n",
       "loan_amount_000s              225\n",
       "msamd_name                  95462\n",
       "state_name                     43\n",
       "county_name                   209\n",
       "applicant_ethnicity_name        0\n",
       "applicant_race_name_1           0\n",
       "applicant_sex_name              0\n",
       "applicant_income_000s       32010\n",
       "hud_median_family_income      509\n",
       "dtype: int64"
      ]
     },
     "execution_count": 36,
     "metadata": {},
     "output_type": "execute_result"
    }
   ],
   "source": [
    "df_fin.isnull().sum()"
   ]
  },
  {
   "cell_type": "code",
   "execution_count": 37,
   "id": "1834040e",
   "metadata": {},
   "outputs": [],
   "source": [
    "## Filling the null values in "
   ]
  },
  {
   "cell_type": "code",
   "execution_count": 38,
   "id": "295a72cf",
   "metadata": {
    "scrolled": false
   },
   "outputs": [
    {
     "name": "stdout",
     "output_type": "stream",
     "text": [
      "                          mean   min       max         std\n",
      "applicant_sex_name                                        \n",
      "Female               90.678939   1.0  146362.0  540.567934\n",
      "Male                116.785178   1.0  300000.0  800.726366\n",
      "Non Binary          152.021008  14.0    4931.0  394.294290\n"
     ]
    }
   ],
   "source": [
    "grouped_stats = df_fin.groupby('applicant_sex_name')['applicant_income_000s'].agg(['mean','min', 'max', 'std'])\n",
    "\n",
    "print(grouped_stats)"
   ]
  },
  {
   "cell_type": "code",
   "execution_count": 39,
   "id": "98e6073f",
   "metadata": {},
   "outputs": [],
   "source": [
    "## Grouping income based on applicant sex has very high variation which could incorrectly represent the distribution of income. \n",
    "## Trying to group the applicant income based on loan_amount. \n",
    "# Binning the loan_amount column into 5 bins to replace the null values in applicant_income with\n",
    "# the median income for the corresponding loan_amount bin "
   ]
  },
  {
   "cell_type": "code",
   "execution_count": 40,
   "id": "30ee6152",
   "metadata": {},
   "outputs": [
    {
     "data": {
      "text/plain": [
       "count    853789.000000\n",
       "mean        108.526512\n",
       "std         728.459965\n",
       "min           1.000000\n",
       "25%          53.000000\n",
       "50%          78.000000\n",
       "75%         119.000000\n",
       "max      300000.000000\n",
       "Name: applicant_income_000s, dtype: float64"
      ]
     },
     "execution_count": 40,
     "metadata": {},
     "output_type": "execute_result"
    }
   ],
   "source": [
    "df_fin['applicant_income_000s'].describe()"
   ]
  },
  {
   "cell_type": "code",
   "execution_count": 41,
   "id": "ac71adb4",
   "metadata": {},
   "outputs": [
    {
     "name": "stdout",
     "output_type": "stream",
     "text": [
      "loan_amount_bin\n",
      "0.0     47.0\n",
      "1.0     60.0\n",
      "2.0     74.0\n",
      "3.0     94.0\n",
      "4.0    150.0\n",
      "Name: applicant_income_000s, dtype: float64\n"
     ]
    }
   ],
   "source": [
    "# Generating quantile-based bins for loan amounts\n",
    "df_fin['loan_amount_bin'] = pd.qcut(df_fin['loan_amount_000s'], q=5, labels=False)\n",
    "\n",
    "# Group by 'loan_amount_bin' and calculate mean income for each bin\n",
    "grouped_median_income = df_fin.groupby('loan_amount_bin')['applicant_income_000s'].median()\n",
    "\n",
    "print(grouped_median_income)"
   ]
  },
  {
   "cell_type": "code",
   "execution_count": 42,
   "id": "6b066e00",
   "metadata": {},
   "outputs": [],
   "source": [
    "# Imputing missing values in applicant_income with bin-wise medians "
   ]
  },
  {
   "cell_type": "code",
   "execution_count": 43,
   "id": "601010a7",
   "metadata": {},
   "outputs": [],
   "source": [
    "df_fin['applicant_income_000s'] = df_fin.apply(lambda row: grouped_median_income[row['loan_amount_bin']]\n",
    "                                               if pd.isnull(row['applicant_income_000s']) \n",
    "                                               else row['applicant_income_000s'], axis = 1)"
   ]
  },
  {
   "cell_type": "code",
   "execution_count": 44,
   "id": "d97e40e4",
   "metadata": {},
   "outputs": [
    {
     "data": {
      "text/plain": [
       "0"
      ]
     },
     "execution_count": 44,
     "metadata": {},
     "output_type": "execute_result"
    }
   ],
   "source": [
    "df_fin['applicant_income_000s'].isnull().sum()"
   ]
  },
  {
   "cell_type": "code",
   "execution_count": 45,
   "id": "47450801",
   "metadata": {},
   "outputs": [
    {
     "data": {
      "text/plain": [
       "count    885574.000000\n",
       "mean        242.947279\n",
       "std         403.880281\n",
       "min           1.000000\n",
       "25%         128.000000\n",
       "50%         196.000000\n",
       "75%         295.000000\n",
       "max      241000.000000\n",
       "Name: loan_amount_000s, dtype: float64"
      ]
     },
     "execution_count": 45,
     "metadata": {},
     "output_type": "execute_result"
    }
   ],
   "source": [
    "df_fin['loan_amount_000s'].describe()"
   ]
  },
  {
   "cell_type": "code",
   "execution_count": 46,
   "id": "3f24fd44",
   "metadata": {},
   "outputs": [],
   "source": [
    "df_fin['loan_amount_000s'].fillna(df_fin['loan_amount_000s'].median(), inplace=True)\n"
   ]
  },
  {
   "cell_type": "code",
   "execution_count": 47,
   "id": "ec9b98e9",
   "metadata": {},
   "outputs": [
    {
     "data": {
      "text/plain": [
       "0"
      ]
     },
     "execution_count": 47,
     "metadata": {},
     "output_type": "execute_result"
    }
   ],
   "source": [
    "df_fin['applicant_income_000s'].isnull().sum()"
   ]
  },
  {
   "cell_type": "code",
   "execution_count": 48,
   "id": "60f4c499",
   "metadata": {},
   "outputs": [
    {
     "data": {
      "text/plain": [
       "count    885290.000000\n",
       "mean      71455.689887\n",
       "std       13299.898016\n",
       "min       15800.000000\n",
       "25%       63200.000000\n",
       "50%       72000.000000\n",
       "75%       75700.000000\n",
       "max      131500.000000\n",
       "Name: hud_median_family_income, dtype: float64"
      ]
     },
     "execution_count": 48,
     "metadata": {},
     "output_type": "execute_result"
    }
   ],
   "source": [
    "df_fin['hud_median_family_income'].describe()"
   ]
  },
  {
   "cell_type": "code",
   "execution_count": 49,
   "id": "cd726cb2",
   "metadata": {},
   "outputs": [],
   "source": [
    "df_fin['hud_median_family_income'].fillna(df_fin['hud_median_family_income'].median(), inplace=True)"
   ]
  },
  {
   "cell_type": "code",
   "execution_count": 50,
   "id": "4e585274",
   "metadata": {},
   "outputs": [
    {
     "data": {
      "text/plain": [
       "0    California\n",
       "Name: state_name, dtype: object"
      ]
     },
     "execution_count": 50,
     "metadata": {},
     "output_type": "execute_result"
    }
   ],
   "source": [
    "df_fin['state_name'].mode()"
   ]
  },
  {
   "cell_type": "code",
   "execution_count": 51,
   "id": "8b3f65ee",
   "metadata": {},
   "outputs": [],
   "source": [
    "df_fin['state_name'].fillna(df_fin['state_name'].mode(), inplace=True)"
   ]
  },
  {
   "cell_type": "code",
   "execution_count": 52,
   "id": "75429497",
   "metadata": {},
   "outputs": [
    {
     "data": {
      "text/plain": [
       "0    Cook County\n",
       "Name: county_name, dtype: object"
      ]
     },
     "execution_count": 52,
     "metadata": {},
     "output_type": "execute_result"
    }
   ],
   "source": [
    "df_fin['county_name'].mode()"
   ]
  },
  {
   "cell_type": "code",
   "execution_count": 53,
   "id": "7878c05c",
   "metadata": {},
   "outputs": [],
   "source": [
    "import pandas as pd\n",
    "\n",
    "# Assuming df is your DataFrame\n",
    "\n",
    "# Group data by 'state_name'\n",
    "grouped_state = df_fin.groupby('state_name')\n",
    "\n",
    "# Define a function to impute missing values within each group\n",
    "def impute_county_name(group):\n",
    "    # Calculate the most frequent county name within the group\n",
    "    most_frequent_county = group['county_name'].mode().iloc[0]\n",
    "    # Impute missing values with the most frequent county name\n",
    "    group['county_name'].fillna(most_frequent_county, inplace=True)\n",
    "    return group\n",
    "\n",
    "# Apply the imputation function to each group and combine the results\n",
    "df_fin = grouped_state.apply(impute_county_name)"
   ]
  },
  {
   "cell_type": "code",
   "execution_count": 54,
   "id": "f6cfb556",
   "metadata": {},
   "outputs": [
    {
     "data": {
      "text/plain": [
       "0"
      ]
     },
     "execution_count": 54,
     "metadata": {},
     "output_type": "execute_result"
    }
   ],
   "source": [
    "df_fin['county_name'].isnull().sum()"
   ]
  },
  {
   "cell_type": "code",
   "execution_count": 55,
   "id": "f504c77f",
   "metadata": {
    "scrolled": true
   },
   "outputs": [
    {
     "data": {
      "text/plain": [
       "loan_type_name                  0\n",
       "loan_purpose_name               0\n",
       "loan_amount_000s                0\n",
       "msamd_name                  95419\n",
       "state_name                      0\n",
       "county_name                     0\n",
       "applicant_ethnicity_name        0\n",
       "applicant_race_name_1           0\n",
       "applicant_sex_name              0\n",
       "applicant_income_000s           0\n",
       "hud_median_family_income        0\n",
       "loan_amount_bin               225\n",
       "dtype: int64"
      ]
     },
     "execution_count": 55,
     "metadata": {},
     "output_type": "execute_result"
    }
   ],
   "source": [
    "df_fin.isnull().sum()"
   ]
  },
  {
   "cell_type": "code",
   "execution_count": 56,
   "id": "dcacc5bc",
   "metadata": {},
   "outputs": [],
   "source": [
    "df_fin['loan_amount_bin'] = pd.qcut(df_fin['loan_amount_000s'], q=5, labels=False)"
   ]
  },
  {
   "cell_type": "code",
   "execution_count": 57,
   "id": "29bae6f7",
   "metadata": {
    "scrolled": true
   },
   "outputs": [
    {
     "data": {
      "text/plain": [
       "loan_type_name                  0\n",
       "loan_purpose_name               0\n",
       "loan_amount_000s                0\n",
       "msamd_name                  95419\n",
       "state_name                      0\n",
       "county_name                     0\n",
       "applicant_ethnicity_name        0\n",
       "applicant_race_name_1           0\n",
       "applicant_sex_name              0\n",
       "applicant_income_000s           0\n",
       "hud_median_family_income        0\n",
       "loan_amount_bin                 0\n",
       "dtype: int64"
      ]
     },
     "execution_count": 57,
     "metadata": {},
     "output_type": "execute_result"
    }
   ],
   "source": [
    "df_fin.isnull().sum()"
   ]
  },
  {
   "cell_type": "markdown",
   "id": "6f8ae00d",
   "metadata": {},
   "source": [
    "## EXPLORATORY DATA ANALYSIS"
   ]
  },
  {
   "cell_type": "code",
   "execution_count": 58,
   "id": "e75bd877",
   "metadata": {},
   "outputs": [
    {
     "name": "stderr",
     "output_type": "stream",
     "text": [
      "C:\\Users\\pavan\\anaconda3\\lib\\site-packages\\scipy\\__init__.py:155: UserWarning: A NumPy version >=1.18.5 and <1.25.0 is required for this version of SciPy (detected version 1.26.2\n",
      "  warnings.warn(f\"A NumPy version >={np_minversion} and <{np_maxversion}\"\n"
     ]
    }
   ],
   "source": [
    "import seaborn as sns\n",
    "import matplotlib.pyplot as plt"
   ]
  },
  {
   "cell_type": "markdown",
   "id": "378d6eee",
   "metadata": {},
   "source": [
    "## OUTLIERS "
   ]
  },
  {
   "cell_type": "code",
   "execution_count": 59,
   "id": "eb8a0d10",
   "metadata": {},
   "outputs": [
    {
     "data": {
      "image/png": "[encoded data removed]",
      "text/plain": [
       "<Figure size 1500x1000 with 1 Axes>"
      ]
     },
     "metadata": {},
     "output_type": "display_data"
    }
   ],
   "source": [
    "# Set the style of seaborn\n",
    "sns.set(style=\"whitegrid\")\n",
    "\n",
    "# Create a box plot for loan amount\n",
    "plt.figure(figsize=(15,10))\n",
    "sns.boxplot(x=df_fin['loan_amount_000s'])\n",
    "plt.title('Box Plot of Loan Amount')\n",
    "plt.xlabel('Loan Amount (in $000s)')\n",
    "plt.show()"
   ]
  },
  {
   "cell_type": "code",
   "execution_count": 60,
   "id": "b1853431",
   "metadata": {},
   "outputs": [],
   "source": [
    "df_X = df_fin.drop(df_fin[df_fin['loan_amount_000s'] > 2000].index)"
   ]
  },
  {
   "cell_type": "code",
   "execution_count": 61,
   "id": "43caeb58",
   "metadata": {},
   "outputs": [
    {
     "data": {
      "image/png": "[encoded data removed]",
      "text/plain": [
       "<Figure size 2000x1000 with 1 Axes>"
      ]
     },
     "metadata": {},
     "output_type": "display_data"
    }
   ],
   "source": [
    "# Set the style of seaborn\n",
    "sns.set(style=\"whitegrid\")\n",
    "\n",
    "# Create a box plot for loan amount\n",
    "plt.figure(figsize=(20,10))\n",
    "sns.histplot(x=df_X['loan_amount_000s'])\n",
    "plt.title('Histogram of Loan Amount')\n",
    "plt.xlabel('Loan Amount (in $000s)')\n",
    "plt.show()"
   ]
  },
  {
   "cell_type": "code",
   "execution_count": 62,
   "id": "849c5c34",
   "metadata": {},
   "outputs": [
    {
     "data": {
      "image/png": "[encoded data removed]",
      "text/plain": [
       "<Figure size 2000x1000 with 1 Axes>"
      ]
     },
     "metadata": {},
     "output_type": "display_data"
    }
   ],
   "source": [
    "sns.set(style=\"whitegrid\")\n",
    "\n",
    "# Create a histogram for applicant income\n",
    "plt.figure(figsize=(20,10))\n",
    "sns.boxplot(x=df_X['applicant_income_000s'])\n",
    "plt.title('Histogram of Applicant Income')\n",
    "plt.xlabel('Applicant Income (in $000s)')\n",
    "plt.show()"
   ]
  },
  {
   "cell_type": "code",
   "execution_count": 63,
   "id": "99978e1b",
   "metadata": {},
   "outputs": [],
   "source": [
    "df_X = df_fin.drop(df_fin[df_fin['applicant_income_000s'] > 100000].index)"
   ]
  },
  {
   "cell_type": "code",
   "execution_count": 64,
   "id": "83aa162d",
   "metadata": {
    "scrolled": true
   },
   "outputs": [
    {
     "data": {
      "image/png": "[encoded data removed]",
      "text/plain": [
       "<Figure size 2000x1000 with 1 Axes>"
      ]
     },
     "metadata": {},
     "output_type": "display_data"
    }
   ],
   "source": [
    "sns.set(style=\"whitegrid\")\n",
    "\n",
    "# Create a histogram for applicant income\n",
    "plt.figure(figsize=(20,10))\n",
    "sns.histplot(x=df_X['applicant_income_000s'])\n",
    "plt.title('Histogram of Applicant Income')\n",
    "plt.xlabel('Applicant Income (in $000s)')\n",
    "plt.show()"
   ]
  },
  {
   "cell_type": "markdown",
   "id": "6bdef2a1",
   "metadata": {},
   "source": [
    "## DATA UNDERSTANDING"
   ]
  },
  {
   "cell_type": "code",
   "execution_count": 65,
   "id": "21b1810c",
   "metadata": {},
   "outputs": [
    {
     "name": "stderr",
     "output_type": "stream",
     "text": [
      "C:\\Users\\pavan\\AppData\\Local\\Temp\\ipykernel_6448\\3832765738.py:2: FutureWarning: \n",
      "\n",
      "Passing `palette` without assigning `hue` is deprecated and will be removed in v0.14.0. Assign the `x` variable to `hue` and set `legend=False` for the same effect.\n",
      "\n",
      "  sns.countplot(x=df_X['loan_purpose_name'], palette =\"magma\")\n"
     ]
    },
    {
     "data": {
      "image/png": "[encoded data removed]",
      "text/plain": [
       "<Figure size 1500x1000 with 1 Axes>"
      ]
     },
     "metadata": {},
     "output_type": "display_data"
    }
   ],
   "source": [
    "plt.figure(figsize = (15,10))\n",
    "sns.countplot(x=df_X['loan_purpose_name'], palette =\"magma\")\n",
    "plt.title('Loan Purpose')\n",
    "plt.xlabel('Loan Purpose')\n",
    "plt.show()"
   ]
  },
  {
   "cell_type": "code",
   "execution_count": 66,
   "id": "1feac1f3",
   "metadata": {},
   "outputs": [
    {
     "name": "stderr",
     "output_type": "stream",
     "text": [
      "C:\\Users\\pavan\\AppData\\Local\\Temp\\ipykernel_6448\\3290714446.py:2: FutureWarning: \n",
      "\n",
      "Passing `palette` without assigning `hue` is deprecated and will be removed in v0.14.0. Assign the `x` variable to `hue` and set `legend=False` for the same effect.\n",
      "\n",
      "  sns.countplot(x=df_X['applicant_ethnicity_name'], palette = \"Set2\")\n"
     ]
    },
    {
     "data": {
      "image/png": "[encoded data removed]",
      "text/plain": [
       "<Figure size 2000x1500 with 1 Axes>"
      ]
     },
     "metadata": {},
     "output_type": "display_data"
    }
   ],
   "source": [
    "plt.figure(figsize=(20,15))\n",
    "sns.countplot(x=df_X['applicant_ethnicity_name'], palette = \"Set2\")\n",
    "plt.title('Ethnic Distribution')\n",
    "plt.xlabel('Applicant Ethnicity')\n",
    "plt.show()"
   ]
  },
  {
   "cell_type": "code",
   "execution_count": 67,
   "id": "532e3d9b",
   "metadata": {},
   "outputs": [
    {
     "name": "stderr",
     "output_type": "stream",
     "text": [
      "C:\\Users\\pavan\\AppData\\Local\\Temp\\ipykernel_6448\\2891186068.py:2: FutureWarning: \n",
      "\n",
      "Passing `palette` without assigning `hue` is deprecated and will be removed in v0.14.0. Assign the `x` variable to `hue` and set `legend=False` for the same effect.\n",
      "\n",
      "  sns.countplot(x=df_X['applicant_race_name_1'], palette = \"Spectral\")\n"
     ]
    },
    {
     "data": {
      "image/png": "[encoded data removed]",
      "text/plain": [
       "<Figure size 2000x1500 with 1 Axes>"
      ]
     },
     "metadata": {},
     "output_type": "display_data"
    }
   ],
   "source": [
    "plt.figure(figsize=(20,15))\n",
    "sns.countplot(x=df_X['applicant_race_name_1'], palette = \"Spectral\")\n",
    "plt.title('Racial Distribution')\n",
    "plt.xlabel('Applicant Race')\n",
    "plt.show()"
   ]
  },
  {
   "cell_type": "code",
   "execution_count": 68,
   "id": "a70e80f2",
   "metadata": {},
   "outputs": [
    {
     "name": "stderr",
     "output_type": "stream",
     "text": [
      "C:\\Users\\pavan\\AppData\\Local\\Temp\\ipykernel_6448\\4108972038.py:2: FutureWarning: \n",
      "\n",
      "Passing `palette` without assigning `hue` is deprecated and will be removed in v0.14.0. Assign the `x` variable to `hue` and set `legend=False` for the same effect.\n",
      "\n",
      "  sns.countplot(x=df_X['applicant_sex_name'], palette =\"rocket\")\n"
     ]
    },
    {
     "data": {
      "image/png": "[encoded data removed]",
      "text/plain": [
       "<Figure size 1500x1000 with 1 Axes>"
      ]
     },
     "metadata": {},
     "output_type": "display_data"
    }
   ],
   "source": [
    "plt.figure(figsize=(15,10))\n",
    "sns.countplot(x=df_X['applicant_sex_name'], palette =\"rocket\")\n",
    "plt.title('Gender Distribution')\n",
    "plt.xlabel('Applicant Sex')\n",
    "plt.show()"
   ]
  },
  {
   "cell_type": "code",
   "execution_count": 69,
   "id": "957fd225",
   "metadata": {},
   "outputs": [],
   "source": [
    "df_X.to_csv(r\"C:\\Users\\pavan\\OneDrive\\Desktop\\Home Loan Project\\HMDA_Demographics_Clean_Dataset.csv\", index = False)"
   ]
  },
  {
   "cell_type": "code",
   "execution_count": null,
   "id": "89cf28b8",
   "metadata": {},
   "outputs": [],
   "source": []
  },
  {
   "cell_type": "code",
   "execution_count": null,
   "id": "69214f54",
   "metadata": {},
   "outputs": [],
   "source": []
  },
  {
   "cell_type": "code",
   "execution_count": null,
   "id": "28b47348",
   "metadata": {},
   "outputs": [],
   "source": []
  },
  {
   "cell_type": "code",
   "execution_count": null,
   "id": "c1053501",
   "metadata": {},
   "outputs": [],
   "source": []
  }
 ],
 "metadata": {
  "kernelspec": {
   "display_name": "Python 3 (ipykernel)",
   "language": "python",
   "name": "python3"
  },
  "language_info": {
   "codemirror_mode": {
    "name": "ipython",
    "version": 3
   },
   "file_extension": ".py",
   "mimetype": "text/x-python",
   "name": "python",
   "nbconvert_exporter": "python",
   "pygments_lexer": "ipython3",
   "version": "3.9.13"
  }
 },
 "nbformat": 4,
 "nbformat_minor": 5
}
